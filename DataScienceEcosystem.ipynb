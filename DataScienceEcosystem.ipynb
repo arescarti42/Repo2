{
 "cells": [
  {
   "cell_type": "markdown",
   "id": "f5a3c4e8-ac46-4291-a132-0c08af72741b",
   "metadata": {},
   "source": [
    "# Data Science Tools and Ecosystem"
   ]
  },
  {
   "cell_type": "markdown",
   "id": "86033605-2560-4c3f-8021-e0e90058d7a9",
   "metadata": {},
   "source": [
    "In this notebook, Data Science Tools and Ecosystem are summarized."
   ]
  },
  {
   "cell_type": "markdown",
   "id": "f7bc5ef6-edf4-4335-ae5f-72b98456373d",
   "metadata": {},
   "source": [
    "**Objectives:**\n",
    "- List popular languages for datascience\n",
    "- LIst commonly used libraries\n",
    "- demonstrate a table"
   ]
  },
  {
   "cell_type": "markdown",
   "id": "51e56fe4-4103-4ba9-a163-d67d7faad1f3",
   "metadata": {},
   "source": [
    "Some of the popular languages that Data Scientists use are: \n",
    "1. R\n",
    "1. Python\n",
    "1. SQL"
   ]
  },
  {
   "cell_type": "markdown",
   "id": "5d21d8c7-c068-4651-a025-a24307f41ec6",
   "metadata": {},
   "source": [
    "Some of the commonly used libraries used by Data Scientists include:\n",
    "1. Pandas\n",
    "2. NumPy\n",
    "3. ggplot\n",
    "4. dplyr\n",
    "5. tidyr"
   ]
  },
  {
   "cell_type": "markdown",
   "id": "c3909faf-3a8c-4cb9-9e0e-32aa84dc546c",
   "metadata": {},
   "source": [
    "|Data Science Tools|\n",
    "|------------------|\n",
    "|Jupyter Notebook|\n",
    "|R Studio|\n",
    "|Anaconda|\n"
   ]
  },
  {
   "cell_type": "markdown",
   "id": "050ac207-6d5a-4f3e-89f2-60e64c1b5af3",
   "metadata": {},
   "source": [
    "### Below are a few examples of evaluating arithmetic expressions in Python"
   ]
  },
  {
   "cell_type": "code",
   "execution_count": 9,
   "id": "bfb0c209-97d0-4915-8162-f029d2e232e6",
   "metadata": {},
   "outputs": [
    {
     "data": {
      "text/plain": [
       "17"
      ]
     },
     "execution_count": 9,
     "metadata": {},
     "output_type": "execute_result"
    }
   ],
   "source": [
    "#This is a simple arithmetic expressison to multiple then add integers.\n",
    "(3*4)+5"
   ]
  },
  {
   "cell_type": "code",
   "execution_count": 10,
   "id": "e7b9c9ec-e2de-488b-8049-b519cd542f6f",
   "metadata": {},
   "outputs": [
    {
     "data": {
      "text/plain": [
       "3.3333333333333335"
      ]
     },
     "execution_count": 10,
     "metadata": {},
     "output_type": "execute_result"
    }
   ],
   "source": [
    "#This will convers 200 minutes to hours by dividing by 60\n",
    "200/60"
   ]
  },
  {
   "cell_type": "markdown",
   "id": "d046cb23-2c50-41e6-a162-0f8166c2bf8d",
   "metadata": {},
   "source": [
    "## Author\n",
    "Liam "
   ]
  },
  {
   "cell_type": "code",
   "execution_count": null,
   "id": "c9bbd8c8-e2aa-4fdc-b1eb-3f2b53bc467b",
   "metadata": {},
   "outputs": [],
   "source": []
  }
 ],
 "metadata": {
  "kernelspec": {
   "display_name": "Python 3 (ipykernel)",
   "language": "python",
   "name": "python3"
  },
  "language_info": {
   "codemirror_mode": {
    "name": "ipython",
    "version": 3
   },
   "file_extension": ".py",
   "mimetype": "text/x-python",
   "name": "python",
   "nbconvert_exporter": "python",
   "pygments_lexer": "ipython3",
   "version": "3.12.8"
  }
 },
 "nbformat": 4,
 "nbformat_minor": 5
}
